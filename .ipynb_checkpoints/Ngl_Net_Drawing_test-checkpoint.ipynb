{
 "cells": [
  {
   "cell_type": "code",
   "execution_count": 1,
   "metadata": {},
   "outputs": [],
   "source": [
    "import pytraj as pt\n",
    "import pytraj.utils.progress\n",
    "import numpy as np\n",
    "import scipy as sp\n",
    "import pandas as pd\n",
    "import matplotlib\n",
    "from matplotlib import pyplot as plt\n",
    "import collections\n",
    "import sys\n",
    "import gc\n",
    "import os\n",
    "import tqdm\n",
    "import nglview as nv\n",
    "import ipywidgets\n",
    "import copy\n",
    "import cPickle\n"
   ]
  },
  {
   "cell_type": "code",
   "execution_count": 20,
   "metadata": {},
   "outputs": [],
   "source": [
    "def drawProtNetEdge(protStruc,resID1,resID2,ngViewOb,\n",
    "                    frame=0,edgeColor=[.5,.5,.5],radius=1,\n",
    "                    *shapeArgs,**shapeKwargs):\n",
    "    crd1=pt.center_of_mass(protStruc,':%g@CA'%resID1)[frame]\n",
    "    crd2=pt.center_of_mass(protStruc,':%g@CA'%resID2)[frame]\n",
    "    \n",
    "    \n",
    "    resname1=protStruc.topology.residue(resID1-1).name\n",
    "    resid1=protStruc.topology.residue(resID1-1).original_resid\n",
    "    \n",
    "    resname2=protStruc.topology.residue(resID2-1).name\n",
    "    resid2=protStruc.topology.residue(resID2-1).original_resid\n",
    "    edgeLabel='%s.%g-%s.%g (%g-%g)'%(\n",
    "        resname1,resid1,resname2,resid2,\n",
    "        resID1-1,resID2-2)\n",
    "    \n",
    "    return ngViewOb.shape.add_cylinder(\n",
    "        list(crd1),list(crd2),edgeColor,radius,\n",
    "        edgeLabel,\n",
    "        *shapeArgs,**shapeKwargs)\n",
    "\n",
    "def drawProtCorrMat(protStruc,corrMat,ngViewOb,\n",
    "                    frame=0,colorsArray=None,radiiMat=None,\n",
    "                    undirected=True):\n",
    "    nzInds=np.nonzero(corrMat)\n",
    "    edgeList=[]\n",
    "    if not (radiiMat is None):\n",
    "        radMat=radiiMat\n",
    "    else:\n",
    "        radMat=(np.abs(corrMat)>0)*.25\n",
    "    if undirected:\n",
    "        indArray=np.array([[ind[0],ind[1]] \\\n",
    "                            for ind in np.array([nzInds[0],nzInds[1]]).T \\\n",
    "                            if ind[0]<ind[1]])\n",
    "    else:\n",
    "        indArray=np.array([nzInds[0],nzInds[1]]).T\n",
    "    for nzInd in indArray:\n",
    "        if not (colorsArray is None):\n",
    "            colorParm={'edgeColor':list(colorsArray[nzInd[0],nzInd[1],:])}\n",
    "        else:\n",
    "            colorParm={}\n",
    "        edgeList.append(drawProtNetEdge(\n",
    "            protStruc,nzInd[0]+1,nzInd[1]+1,\n",
    "            ngViewOb,frame,radius=radMat[nzInd[0],nzInd[1]],\n",
    "            **colorParm))\n",
    "    return edgeList"
   ]
  },
  {
   "cell_type": "code",
   "execution_count": 25,
   "metadata": {},
   "outputs": [
    {
     "name": "stdout",
     "output_type": "stream",
     "text": [
      "viewing \"struc.pdb\"\n",
      "with correlation matrix \"Test_Delta_Mat.dat\" network overlay\n",
      "pytraj.Trajectory, 2 frames: \n",
      "Size: 0.000000 (GB)\n",
      "<Topology: 6873 atoms, 435 residues, 2 mols, PBC with box type = ortho>\n",
      "           \n"
     ]
    },
    {
     "data": {
      "application/vnd.jupyter.widget-view+json": {
       "model_id": "b3c2209f66e54c7f82d0db756221549d",
       "version_major": 2,
       "version_minor": 0
      },
      "text/plain": [
       "NGLWidget(count=2)"
      ]
     },
     "metadata": {},
     "output_type": "display_data"
    }
   ],
   "source": [
    "strucPath='struc.pdb'\n",
    "matPath='Test_Delta_Mat.dat'\n",
    "testStruc=pt.load(strucPath)\n",
    "print 'viewing \"%s\"'%strucPath\n",
    "print testStruc\n",
    "print 'with correlation matrix \"%s\" network overlay'%matPath\n",
    "\n",
    "view=nv.show_pytraj(testStruc)\n",
    "testMat=np.loadtxt('Test_Delta_Mat.dat',skiprows=1)\n",
    "nzInds=np.nonzero(testMat)\n",
    "\n",
    "#will need to come up with a better interface for coloring\n",
    "#and sizing network edges in the future.\n",
    "#for now, the color transfer function is built by hand here\n",
    "#as a CorrMat_rows X CorrMat_columns X 3 array\n",
    "scaledTestMatVals=(np.abs(testMat[nzInds])-\\\n",
    "                       np.min(np.abs(testMat[nzInds])))/ \\\n",
    "                      (np.max(np.abs(testMat[nzInds]))- \\\n",
    "                       np.min(np.abs(testMat[nzInds])))+\\\n",
    "                      np.min(np.abs(testMat[nzInds]))\n",
    "\n",
    "colorArray=np.zeros([testMat.shape[0],testMat.shape[1],3])\n",
    "#red\n",
    "colorInds=(nzInds[0],nzInds[1],np.zeros(nzInds[0].shape,dtype=int)+0)\n",
    "colorArray[colorInds]=np.clip(2*scaledTestMatVals,0,1)\n",
    "#green\n",
    "colorInds=(nzInds[0],nzInds[1],np.zeros(nzInds[0].shape,dtype=int)+1)\n",
    "colorArray[colorInds]=1-np.clip(np.abs(scaledTestMatVals-.5)*2,0,1)\n",
    "#blue\n",
    "colorInds=(nzInds[0],nzInds[1],np.zeros(nzInds[0].shape,dtype=int)+2)\n",
    "colorArray[colorInds]=np.clip(2*(1-scaledTestMatVals),0,1)\n",
    "corrMatEdges=drawProtCorrMat(testStruc,testMat,view,\n",
    "                             colorsArray=colorArray,\n",
    "                             radiiMat=(testMat>0)*.5)\n",
    "#print corrMatEdges\n",
    "view"
   ]
  },
  {
   "cell_type": "code",
   "execution_count": null,
   "metadata": {},
   "outputs": [],
   "source": []
  }
 ],
 "metadata": {
  "kernelspec": {
   "display_name": "Python 2",
   "language": "python",
   "name": "python2"
  },
  "language_info": {
   "codemirror_mode": {
    "name": "ipython",
    "version": 2
   },
   "file_extension": ".py",
   "mimetype": "text/x-python",
   "name": "python",
   "nbconvert_exporter": "python",
   "pygments_lexer": "ipython2",
   "version": "2.7.16"
  }
 },
 "nbformat": 4,
 "nbformat_minor": 2
}
